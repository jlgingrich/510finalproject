{
 "cells": [
  {
   "cell_type": "markdown",
   "id": "ff0ed2bd-a96c-4890-9d74-4b14c81a17f5",
   "metadata": {},
   "source": [
    "# INFSCI 510: Data Analysis Final Project\n"
   ]
  },
  {
   "cell_type": "code",
   "execution_count": 1,
   "id": "3878c030-d7c6-482f-ba25-9157f1cf22c6",
   "metadata": {},
   "outputs": [
    {
     "data": {
      "text/plain": [
       "Index(['Unnamed: 0', 'Index', 'Address', 'FLAG', 'Avg min between sent tnx',\n",
       "       'Avg min between received tnx',\n",
       "       'Time Diff between first and last (Mins)', 'Sent tnx', 'Received Tnx',\n",
       "       'Number of Created Contracts', 'Unique Received From Addresses',\n",
       "       'Unique Sent To Addresses', 'min value received', 'max value received ',\n",
       "       'avg val received', 'min val sent', 'max val sent', 'avg val sent',\n",
       "       'min value sent to contract', 'max val sent to contract',\n",
       "       'avg value sent to contract',\n",
       "       'total transactions (including tnx to create contract',\n",
       "       'total Ether sent', 'total ether received',\n",
       "       'total ether sent contracts', 'total ether balance',\n",
       "       ' Total ERC20 tnxs', ' ERC20 total Ether received',\n",
       "       ' ERC20 total ether sent', ' ERC20 total Ether sent contract',\n",
       "       ' ERC20 uniq sent addr', ' ERC20 uniq rec addr',\n",
       "       ' ERC20 uniq sent addr.1', ' ERC20 uniq rec contract addr',\n",
       "       ' ERC20 avg time between sent tnx', ' ERC20 avg time between rec tnx',\n",
       "       ' ERC20 avg time between rec 2 tnx',\n",
       "       ' ERC20 avg time between contract tnx', ' ERC20 min val rec',\n",
       "       ' ERC20 max val rec', ' ERC20 avg val rec', ' ERC20 min val sent',\n",
       "       ' ERC20 max val sent', ' ERC20 avg val sent',\n",
       "       ' ERC20 min val sent contract', ' ERC20 max val sent contract',\n",
       "       ' ERC20 avg val sent contract', ' ERC20 uniq sent token name',\n",
       "       ' ERC20 uniq rec token name', ' ERC20 most sent token type',\n",
       "       ' ERC20_most_rec_token_type'],\n",
       "      dtype='object')"
      ]
     },
     "execution_count": 1,
     "metadata": {},
     "output_type": "execute_result"
    }
   ],
   "source": [
    "import pandas as pd\n",
    "import matplotlib.pyplot as plt\n",
    "import math\n",
    "import numpy as np\n",
    "\n",
    "%matplotlib inline\n",
    "\n",
    "df = pd.read_csv(\"transaction_dataset.csv\")\n",
    "df.columns"
   ]
  },
  {
   "cell_type": "code",
   "execution_count": 2,
   "id": "7b8da797-e645-441a-8856-55f61408724a",
   "metadata": {},
   "outputs": [],
   "source": [
    "def xvarnames(n,x=1):\n",
    "    return [\"x{}\".format(i) for i in range(x,n+1)]\n",
    "\n",
    "# Drop trash columns\n",
    "df = df.drop(columns=[\"Unnamed: 0\", \"Index\", \"Address\"])\n",
    "\n",
    "# Fix target column dtype \n",
    "df = df.astype({\"FLAG\":\"bool\"})\n",
    "\n",
    "# Give columns simple names; see `vars.txt` for mapping and descriptions\n",
    "df.columns = [\"Y\"] + xvarnames(47)\n",
    "\n",
    "# Save dataset for later\n",
    "df.to_csv(\"transaction_dataset_clean.csv\", index=False)"
   ]
  },
  {
   "cell_type": "code",
   "execution_count": 3,
   "id": "fdcce242-bb54-49fb-a030-0b2169a0a777",
   "metadata": {},
   "outputs": [
    {
     "name": "stdout",
     "output_type": "stream",
     "text": [
      "Y      0.000000\n",
      "x1     0.000000\n",
      "x2     0.000000\n",
      "x3     0.000000\n",
      "x4     0.000000\n",
      "x5     0.000000\n",
      "x6     0.000000\n",
      "x7     0.000000\n",
      "x8     0.000000\n",
      "x9     0.000000\n",
      "x10    0.000000\n",
      "x11    0.000000\n",
      "x12    0.000000\n",
      "x13    0.000000\n",
      "x14    0.000000\n",
      "x15    0.000000\n",
      "x16    0.000000\n",
      "x17    0.000000\n",
      "x18    0.000000\n",
      "x19    0.000000\n",
      "x20    0.000000\n",
      "x21    0.000000\n",
      "x22    0.000000\n",
      "x23    0.084239\n",
      "x24    0.084239\n",
      "x25    0.084239\n",
      "x26    0.084239\n",
      "x27    0.084239\n",
      "x28    0.084239\n",
      "x29    0.084239\n",
      "x30    0.084239\n",
      "x31    0.084239\n",
      "x32    0.084239\n",
      "x33    0.084239\n",
      "x34    0.084239\n",
      "x35    0.084239\n",
      "x36    0.084239\n",
      "x37    0.084239\n",
      "x38    0.084239\n",
      "x39    0.084239\n",
      "x40    0.084239\n",
      "x41    0.084239\n",
      "x42    0.084239\n",
      "x43    0.084239\n",
      "x44    0.084239\n",
      "x45    0.084239\n",
      "x46    0.085459\n",
      "x47    0.086475\n",
      "dtype: float64\n"
     ]
    }
   ],
   "source": [
    "print(df.isna().sum()/len(df))\n",
    "# Drop nulls, as they make up only 8% of the dataset and they're clumped into the \n",
    "df = df.dropna()"
   ]
  },
  {
   "cell_type": "code",
   "execution_count": 4,
   "id": "7119cd1f-4902-4026-96e2-5f53f94f7f2f",
   "metadata": {},
   "outputs": [
    {
     "name": "stdout",
     "output_type": "stream",
     "text": [
      "x15: 0.9997773076494822\n",
      "0.00    8979\n",
      "0.02       1\n",
      "0.01       1\n",
      "Name: x15, dtype: int64\n",
      "\n",
      "x16: 0.9996659614742234\n",
      "0.000000    8978\n",
      "0.020000       1\n",
      "0.010000       1\n",
      "0.046029       1\n",
      "Name: x16, dtype: int64\n",
      "\n",
      "x17: 0.9996659614742234\n",
      "0.000000    8978\n",
      "0.020000       1\n",
      "0.010000       1\n",
      "0.023014       1\n",
      "Name: x17, dtype: int64\n",
      "\n",
      "x21: 0.9996659614742234\n",
      "0.000000    8978\n",
      "0.020000       1\n",
      "0.010000       1\n",
      "0.046029       1\n",
      "Name: x21, dtype: int64\n",
      "\n",
      "x26: 0.9968823070927514\n",
      "0.000000e+00    8953\n",
      "5.570000e-05       1\n",
      "4.160000e+05       1\n",
      "6.300000e-16       1\n",
      "2.190000e+01       1\n",
      "3.860000e-06       1\n",
      "1.520679e+04       1\n",
      "1.010000e-06       1\n",
      "2.860000e-13       1\n",
      "1.260000e-07       1\n",
      "3.453885e+05       1\n",
      "3.915000e+03       1\n",
      "9.748780e+01       1\n",
      "5.320000e-07       1\n",
      "4.392710e+02       1\n",
      "1.150000e-14       1\n",
      "5.040000e-07       1\n",
      "4.014975e+03       1\n",
      "2.720000e-06       1\n",
      "4.987702e-03       1\n",
      "2.327219e+02       1\n",
      "2.200000e-04       1\n",
      "2.000000e-06       1\n",
      "1.680000e-02       1\n",
      "1.060000e-12       1\n",
      "3.150000e-08       1\n",
      "2.143675e+05       1\n",
      "1.870000e-10       1\n",
      "1.000000e+02       1\n",
      "Name: x26, dtype: int64\n",
      "\n",
      "x29: 0.9968823070927514\n",
      "0.0    8953\n",
      "1.0      26\n",
      "3.0       1\n",
      "2.0       1\n",
      "Name: x29, dtype: int64\n",
      "\n",
      "x31: 1.0\n",
      "0.0    8981\n",
      "Name: x31, dtype: int64\n",
      "\n",
      "x32: 1.0\n",
      "0.0    8981\n",
      "Name: x32, dtype: int64\n",
      "\n",
      "x33: 1.0\n",
      "0.0    8981\n",
      "Name: x33, dtype: int64\n",
      "\n",
      "x34: 1.0\n",
      "0.0    8981\n",
      "Name: x34, dtype: int64\n",
      "\n",
      "x38: 0.9161563300300635\n",
      "0.000000       8228\n",
      "100.000000      131\n",
      "1.000000         35\n",
      "0.000001         23\n",
      "10.000000        12\n",
      "               ... \n",
      "0.000009          1\n",
      "15.140586         1\n",
      "1099.784317       1\n",
      "2400.000000       1\n",
      "72.360080         1\n",
      "Name: x38, Length: 466, dtype: int64\n",
      "\n",
      "x41: 1.0\n",
      "0.0    8981\n",
      "Name: x41, dtype: int64\n",
      "\n",
      "x42: 1.0\n",
      "0.0    8981\n",
      "Name: x42, dtype: int64\n",
      "\n",
      "x43: 1.0\n",
      "0.0    8981\n",
      "Name: x43, dtype: int64\n",
      "\n",
      "['x15', 'x16', 'x17', 'x21', 'x26', 'x29', 'x31', 'x32', 'x33', 'x34', 'x38', 'x41', 'x42', 'x43']\n"
     ]
    }
   ],
   "source": [
    "# Isolate all features with bad information density\n",
    "bad_cols = []\n",
    "for col in df.columns:\n",
    "    # Skip the response variable\n",
    "    if col==\"Y\":\n",
    "        continue\n",
    "    # Calculate the percentage of all values that the most common result makes up\n",
    "    value1percent = df[col].value_counts()[0]/len(df[col])\n",
    "    if value1percent > 0.87:\n",
    "        bad_cols.append(col)\n",
    "        print(f\"{col:>3}: {value1percent}\\n{df[col].value_counts()}\\n\")\n",
    "print(bad_cols)"
   ]
  },
  {
   "cell_type": "code",
   "execution_count": 5,
   "id": "ad053bfa-33cc-483f-b6cb-827606911c28",
   "metadata": {},
   "outputs": [],
   "source": [
    "# Replace categorical column with frequency\n",
    "value_freq = [df[\"x46\"].value_counts()[x] for x in df[\"x46\"]]\n",
    "df[\"x46\"] = value_freq"
   ]
  },
  {
   "cell_type": "code",
   "execution_count": 6,
   "id": "a8dca40d-0484-4c88-8bd2-07fb2a31cd50",
   "metadata": {},
   "outputs": [],
   "source": [
    "# Absolute value the only column with negative values\n",
    "value_freq = [df[\"x47\"].value_counts()[x] for x in df[\"x47\"]]\n",
    "df[\"x47\"] = value_freq"
   ]
  },
  {
   "cell_type": "code",
   "execution_count": 7,
   "id": "ae424457-6365-492d-8521-344efa447f49",
   "metadata": {},
   "outputs": [],
   "source": [
    "# Replace categorical column with frequency\n",
    "df[\"x22\"] = df[\"x22\"].abs()"
   ]
  },
  {
   "cell_type": "code",
   "execution_count": 8,
   "id": "9385ed2b-9391-4e51-a921-03fb83b5de57",
   "metadata": {},
   "outputs": [],
   "source": [
    "df = df.drop(columns=bad_cols)\n",
    "df.to_csv(\"transaction_dataset_really_clean.csv\", index=False)"
   ]
  },
  {
   "cell_type": "markdown",
   "id": "29e98bb0-dbda-4b25-91bb-b649d51f5a21",
   "metadata": {},
   "source": [
    "## Identify best predictors"
   ]
  },
  {
   "cell_type": "markdown",
   "id": "97f034a8-b441-4685-a5fc-4a2ea3a12506",
   "metadata": {},
   "source": [
    "### Simple correlation test"
   ]
  },
  {
   "cell_type": "code",
   "execution_count": 9,
   "id": "3bdc08fa-18cd-4d9b-b8e4-8133e4942467",
   "metadata": {},
   "outputs": [
    {
     "data": {
      "text/plain": [
       "x46   -0.394660\n",
       "x47   -0.383307\n",
       "x3    -0.212092\n",
       "x2    -0.115733\n",
       "x18   -0.079024\n",
       "x4    -0.062756\n",
       "Name: Y, dtype: float64"
      ]
     },
     "execution_count": 9,
     "metadata": {},
     "output_type": "execute_result"
    }
   ],
   "source": [
    "# Identify the most correlated numeric columns\n",
    "best_corrs = df.corr(numeric_only=True)[\"Y\"].sort_values()[:6]\n",
    "best_corrs"
   ]
  },
  {
   "cell_type": "code",
   "execution_count": 10,
   "id": "368bcebf-67bd-4faa-8a76-0b9dcfce94c4",
   "metadata": {},
   "outputs": [
    {
     "data": {
      "text/html": [
       "<div>\n",
       "<style scoped>\n",
       "    .dataframe tbody tr th:only-of-type {\n",
       "        vertical-align: middle;\n",
       "    }\n",
       "\n",
       "    .dataframe tbody tr th {\n",
       "        vertical-align: top;\n",
       "    }\n",
       "\n",
       "    .dataframe thead th {\n",
       "        text-align: right;\n",
       "    }\n",
       "</style>\n",
       "<table border=\"1\" class=\"dataframe\">\n",
       "  <thead>\n",
       "    <tr style=\"text-align: right;\">\n",
       "      <th></th>\n",
       "      <th>x18</th>\n",
       "      <th>x2</th>\n",
       "      <th>x3</th>\n",
       "      <th>x4</th>\n",
       "      <th>x46</th>\n",
       "      <th>x47</th>\n",
       "    </tr>\n",
       "  </thead>\n",
       "  <tbody>\n",
       "    <tr>\n",
       "      <th>0</th>\n",
       "      <td>810</td>\n",
       "      <td>1093.71</td>\n",
       "      <td>704785.63</td>\n",
       "      <td>721</td>\n",
       "      <td>11</td>\n",
       "      <td>4</td>\n",
       "    </tr>\n",
       "    <tr>\n",
       "      <th>1</th>\n",
       "      <td>102</td>\n",
       "      <td>2958.44</td>\n",
       "      <td>1218216.73</td>\n",
       "      <td>94</td>\n",
       "      <td>9</td>\n",
       "      <td>207</td>\n",
       "    </tr>\n",
       "    <tr>\n",
       "      <th>2</th>\n",
       "      <td>12</td>\n",
       "      <td>2434.02</td>\n",
       "      <td>516729.30</td>\n",
       "      <td>2</td>\n",
       "      <td>1844</td>\n",
       "      <td>145</td>\n",
       "    </tr>\n",
       "    <tr>\n",
       "      <th>3</th>\n",
       "      <td>34</td>\n",
       "      <td>15785.09</td>\n",
       "      <td>397555.90</td>\n",
       "      <td>25</td>\n",
       "      <td>4</td>\n",
       "      <td>145</td>\n",
       "    </tr>\n",
       "    <tr>\n",
       "      <th>4</th>\n",
       "      <td>4619</td>\n",
       "      <td>10707.77</td>\n",
       "      <td>382472.42</td>\n",
       "      <td>4598</td>\n",
       "      <td>61</td>\n",
       "      <td>161</td>\n",
       "    </tr>\n",
       "    <tr>\n",
       "      <th>...</th>\n",
       "      <td>...</td>\n",
       "      <td>...</td>\n",
       "      <td>...</td>\n",
       "      <td>...</td>\n",
       "      <td>...</td>\n",
       "      <td>...</td>\n",
       "    </tr>\n",
       "    <tr>\n",
       "      <th>9832</th>\n",
       "      <td>0</td>\n",
       "      <td>0.00</td>\n",
       "      <td>0.00</td>\n",
       "      <td>0</td>\n",
       "      <td>1191</td>\n",
       "      <td>779</td>\n",
       "    </tr>\n",
       "    <tr>\n",
       "      <th>9836</th>\n",
       "      <td>17</td>\n",
       "      <td>631.39</td>\n",
       "      <td>58748.48</td>\n",
       "      <td>4</td>\n",
       "      <td>1191</td>\n",
       "      <td>80</td>\n",
       "    </tr>\n",
       "    <tr>\n",
       "      <th>9837</th>\n",
       "      <td>0</td>\n",
       "      <td>0.00</td>\n",
       "      <td>0.00</td>\n",
       "      <td>0</td>\n",
       "      <td>1191</td>\n",
       "      <td>779</td>\n",
       "    </tr>\n",
       "    <tr>\n",
       "      <th>9838</th>\n",
       "      <td>110</td>\n",
       "      <td>2189.29</td>\n",
       "      <td>261601.88</td>\n",
       "      <td>67</td>\n",
       "      <td>1191</td>\n",
       "      <td>38</td>\n",
       "    </tr>\n",
       "    <tr>\n",
       "      <th>9840</th>\n",
       "      <td>21</td>\n",
       "      <td>149.56</td>\n",
       "      <td>670817.33</td>\n",
       "      <td>18</td>\n",
       "      <td>1191</td>\n",
       "      <td>1</td>\n",
       "    </tr>\n",
       "  </tbody>\n",
       "</table>\n",
       "<p>8981 rows × 6 columns</p>\n",
       "</div>"
      ],
      "text/plain": [
       "       x18        x2          x3    x4   x46  x47\n",
       "0      810   1093.71   704785.63   721    11    4\n",
       "1      102   2958.44  1218216.73    94     9  207\n",
       "2       12   2434.02   516729.30     2  1844  145\n",
       "3       34  15785.09   397555.90    25     4  145\n",
       "4     4619  10707.77   382472.42  4598    61  161\n",
       "...    ...       ...         ...   ...   ...  ...\n",
       "9832     0      0.00        0.00     0  1191  779\n",
       "9836    17    631.39    58748.48     4  1191   80\n",
       "9837     0      0.00        0.00     0  1191  779\n",
       "9838   110   2189.29   261601.88    67  1191   38\n",
       "9840    21    149.56   670817.33    18  1191    1\n",
       "\n",
       "[8981 rows x 6 columns]"
      ]
     },
     "execution_count": 10,
     "metadata": {},
     "output_type": "execute_result"
    }
   ],
   "source": [
    "df[best_corrs.index.sort_values()]"
   ]
  },
  {
   "cell_type": "code",
   "execution_count": 58,
   "id": "e955a0b6-090e-451d-a90d-3b79b7bd5aab",
   "metadata": {},
   "outputs": [],
   "source": [
    "%%capture --no-display\n",
    "from sklearn.feature_selection import RFE\n",
    "from sklearn.linear_model import LogisticRegression\n",
    "\n",
    "X = df[[i for i in xvarnames(40,1) if i not in bad_cols]]\n",
    "Y = df['Y']\n",
    "# feature extraction\n",
    "model = LogisticRegression()\n",
    "rfe = RFE(model,n_features_to_select=6)\n",
    "fit = rfe.fit(X, Y)"
   ]
  },
  {
   "cell_type": "code",
   "execution_count": 60,
   "id": "6fcda308-6534-4f3e-b016-aca240ddf7f0",
   "metadata": {},
   "outputs": [
    {
     "name": "stdout",
     "output_type": "stream",
     "text": [
      "Num Features: 6\n",
      "Selected Features:  Index(['x4', 'x5', 'x9', 'x11', 'x13', 'x18'], dtype='object')\n"
     ]
    }
   ],
   "source": [
    "# summarize scores\n",
    "print(\"Num Features:\",  fit.n_features_)\n",
    "print(\"Selected Features: \", X.columns[fit.support_])"
   ]
  },
  {
   "cell_type": "code",
   "execution_count": 65,
   "id": "f6bd0713-0e61-425e-8be2-66e24502cae4",
   "metadata": {},
   "outputs": [
    {
     "data": {
      "text/plain": [
       "<AxesSubplot: ylabel='Density'>"
      ]
     },
     "execution_count": 65,
     "metadata": {},
     "output_type": "execute_result"
    },
    {
     "data": {
      "image/png": "[encoded data removed]",
      "text/plain": [
       "<Figure size 432x288 with 1 Axes>"
      ]
     },
     "metadata": {
      "needs_background": "light"
     },
     "output_type": "display_data"
    }
   ],
   "source": [
    "df[\"x46\"].plot.density()"
   ]
  },
  {
   "cell_type": "code",
   "execution_count": 64,
   "id": "f0cbfd2a-f902-4f34-8137-fd9283e1c09a",
   "metadata": {},
   "outputs": [
    {
     "data": {
      "text/plain": [
       "<AxesSubplot: ylabel='Density'>"
      ]
     },
     "execution_count": 64,
     "metadata": {},
     "output_type": "execute_result"
    },
    {
     "data": {
      "image/png": "[encoded data removed]",
      "text/plain": [
       "<Figure size 432x288 with 1 Axes>"
      ]
     },
     "metadata": {
      "needs_background": "light"
     },
     "output_type": "display_data"
    }
   ],
   "source": [
    "df[\"x47\"].plot.density()"
   ]
  },
  {
   "cell_type": "code",
   "execution_count": null,
   "id": "553f3e24-f957-44d1-a63c-fcf15ea6f55e",
   "metadata": {},
   "outputs": [],
   "source": []
  }
 ],
 "metadata": {
  "kernelspec": {
   "display_name": "Python 3 (ipykernel)",
   "language": "python",
   "name": "python3"
  },
  "language_info": {
   "codemirror_mode": {
    "name": "ipython",
    "version": 3
   },
   "file_extension": ".py",
   "mimetype": "text/x-python",
   "name": "python",
   "nbconvert_exporter": "python",
   "pygments_lexer": "ipython3",
   "version": "3.8.10"
  }
 },
 "nbformat": 4,
 "nbformat_minor": 5
}
